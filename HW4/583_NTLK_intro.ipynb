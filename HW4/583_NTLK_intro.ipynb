{
 "cells": [
  {
   "cell_type": "markdown",
   "id": "sMsOqIYy5h0I",
   "metadata": {
    "id": "sMsOqIYy5h0I"
   },
   "source": [
    "## CSC 583 Ngrams -- Example Scratch Code"
   ]
  },
  {
   "cell_type": "code",
   "execution_count": 1,
   "id": "f9262cc5",
   "metadata": {
    "id": "f9262cc5"
   },
   "outputs": [],
   "source": [
    "import nltk"
   ]
  },
  {
   "cell_type": "code",
   "execution_count": 2,
   "id": "814e886e",
   "metadata": {
    "id": "814e886e"
   },
   "outputs": [],
   "source": [
    "s1 = \"i like sam\"\n",
    "s2 = \"sam is great\"\n",
    "s3 = \"sam is funny\"\n",
    "s4 = \"i like funny people\"\n",
    "s5 = \"i know many funny people like sam\""
   ]
  },
  {
   "cell_type": "code",
   "execution_count": 3,
   "id": "83c8f157",
   "metadata": {
    "colab": {
     "base_uri": "https://localhost:8080/"
    },
    "id": "83c8f157",
    "outputId": "a8bfb7ed-c609-4fa0-f625-4a9c7b9eb633"
   },
   "outputs": [
    {
     "name": "stdout",
     "output_type": "stream",
     "text": [
      "[['i', 'like', 'sam'], ['sam', 'is', 'great'], ['sam', 'is', 'funny'], ['i', 'like', 'funny', 'people'], ['i', 'know', 'many', 'funny', 'people', 'like', 'sam']]\n"
     ]
    }
   ],
   "source": [
    "sentences = [s.split() for s in [s1, s2, s3, s4, s5]]\n",
    "print (sentences)"
   ]
  },
  {
   "cell_type": "code",
   "execution_count": 21,
   "id": "b424cd98",
   "metadata": {
    "colab": {
     "base_uri": "https://localhost:8080/"
    },
    "id": "b424cd98",
    "outputId": "1b20539d-3d02-490b-ef6e-e9db44910940"
   },
   "outputs": [
    {
     "name": "stdout",
     "output_type": "stream",
     "text": [
      "['i', 'like', 'sam', 'sam', 'is', 'great', 'sam', 'is', 'funny', 'i', 'like', 'funny', 'people', 'i', 'know', 'many', 'funny', 'people', 'like', 'sam']\n"
     ]
    }
   ],
   "source": [
    "# flatten the sentences (a nested list) to a flat list\n",
    "def flatten(sents):\n",
    "  # assuming the nesting level of 2..\n",
    "  return [token for sent in sents for token in sent]\n",
    "\n",
    "newlist = flatten(sentences)\n",
    "print (newlist)"
   ]
  },
  {
   "cell_type": "markdown",
   "id": "io3bmgy4j5a0",
   "metadata": {
    "id": "io3bmgy4j5a0"
   },
   "source": [
    "### NLTK FreqDist\n",
    "NLTK **FreqDist** is a **dictionary** where, given a/one (flattened) list of items,\n",
    "it stores the frequency counts of the items (item, its-frequency) in the list, where **item is the key and its-frequency is the value**."
   ]
  },
  {
   "cell_type": "markdown",
   "id": "8QmtG5Wf1bti",
   "metadata": {
    "id": "8QmtG5Wf1bti"
   },
   "source": [
    "(1) Uningrams"
   ]
  },
  {
   "cell_type": "code",
   "execution_count": 9,
   "id": "2ae5e9c0",
   "metadata": {
    "colab": {
     "base_uri": "https://localhost:8080/"
    },
    "id": "2ae5e9c0",
    "outputId": "a26ff17b-7d30-4b96-8b9e-5b551f395275"
   },
   "outputs": [
    {
     "name": "stdout",
     "output_type": "stream",
     "text": [
      "<FreqDist with 9 samples and 20 outcomes>\n"
     ]
    }
   ],
   "source": [
    "fdist1 = nltk.probability.FreqDist(newlist)\n",
    "print (fdist1)"
   ]
  },
  {
   "cell_type": "code",
   "execution_count": 45,
   "id": "40065702",
   "metadata": {
    "colab": {
     "base_uri": "https://localhost:8080/"
    },
    "id": "40065702",
    "outputId": "6c46ffc9-c06a-4773-c636-890da594c784"
   },
   "outputs": [
    {
     "name": "stdout",
     "output_type": "stream",
     "text": [
      "3\n",
      "4\n",
      "2\n",
      "0\n",
      "dict_items([('i', 3), ('like', 3), ('sam', 4), ('is', 2), ('great', 1), ('funny', 3), ('people', 2), ('know', 1), ('many', 1)])\n",
      "The total frequency is 20\n"
     ]
    }
   ],
   "source": [
    "# you can use the same Python syntax to access things in FreqDist\n",
    "print (fdist1['i'])\n",
    "print (fdist1['sam'])\n",
    "print (fdist1['people'])\n",
    "print (fdist1['noriko'])\n",
    "# show all keys and values\n",
    "print (fdist1.items())\n",
    "print (f\"The total frequency is {sum(fdist1.values())}\")"
   ]
  },
  {
   "cell_type": "markdown",
   "id": "13LAPHmnvNTr",
   "metadata": {
    "id": "13LAPHmnvNTr"
   },
   "source": [
    "#### (!) Convert frequencies to **probabilities** using .freq() -- for unigrams"
   ]
  },
  {
   "cell_type": "code",
   "execution_count": 47,
   "id": "kqO4BoPmvZZ3",
   "metadata": {
    "colab": {
     "base_uri": "https://localhost:8080/"
    },
    "id": "kqO4BoPmvZZ3",
    "outputId": "f21b9f03-f586-40d0-9871-b0bfe5b97fa7"
   },
   "outputs": [
    {
     "name": "stdout",
     "output_type": "stream",
     "text": [
      "0.15\n",
      "0.2\n",
      "0.1\n",
      "0.0\n"
     ]
    }
   ],
   "source": [
    "print (fdist1.freq('i'))      # should be 3/20 = 0.15\n",
    "print (fdist1.freq('sam'))    # should be 4/20 = 0.2\n",
    "print (fdist1.freq('people')) # should be 2/20 = 0.1\n",
    "print (fdist1.freq('noriko')) # should be 0/20 = 0.0"
   ]
  },
  {
   "cell_type": "markdown",
   "id": "1Uht4ZODlJR1",
   "metadata": {
    "id": "1Uht4ZODlJR1"
   },
   "source": [
    "## NLTK ngrams()\n",
    "This NLTK **function**, given a list of items/tokens, returns a list of ngrams obtained by a sliding window of n items in the list."
   ]
  },
  {
   "cell_type": "markdown",
   "id": "WCor57MW1loV",
   "metadata": {
    "id": "WCor57MW1loV"
   },
   "source": [
    "(2) Bigrams"
   ]
  },
  {
   "cell_type": "code",
   "execution_count": 22,
   "id": "8191425f",
   "metadata": {
    "colab": {
     "base_uri": "https://localhost:8080/"
    },
    "id": "8191425f",
    "outputId": "93de0a96-0ac5-469e-9a58-a87ce73e449f"
   },
   "outputs": [
    {
     "name": "stdout",
     "output_type": "stream",
     "text": [
      "[[('<START>', 'i'), ('i', 'like'), ('like', 'sam')], [('<START>', 'sam'), ('sam', 'is'), ('is', 'great')], [('<START>', 'sam'), ('sam', 'is'), ('is', 'funny')], [('<START>', 'i'), ('i', 'like'), ('like', 'funny'), ('funny', 'people')], [('<START>', 'i'), ('i', 'know'), ('know', 'many'), ('many', 'funny'), ('funny', 'people'), ('people', 'like'), ('like', 'sam')]]\n"
     ]
    }
   ],
   "source": [
    "from nltk.util import ngrams\n",
    "\n",
    "# bigrams\n",
    "bigram_list = [list(ngrams(sentence, 2, pad_left=True, left_pad_symbol='<START>')) for sentence in sentences]\n",
    "print (bigram_list)"
   ]
  },
  {
   "cell_type": "markdown",
   "id": "U6fdojMbmBKx",
   "metadata": {
    "id": "U6fdojMbmBKx"
   },
   "source": [
    "## **NLTK ConditionalFreqDist**\n",
    "NLTK **ConditionalFreqDist** is essentially a **dictionary** too where, given a list of 2-tuples \\[(key1, value1), (key2, value2),...\\], for each 'key', it stores the frequency counts of the 'value's in a NLTK FreqDist dictionary."
   ]
  },
  {
   "cell_type": "code",
   "execution_count": 24,
   "id": "0a6d3d53",
   "metadata": {
    "colab": {
     "base_uri": "https://localhost:8080/"
    },
    "id": "0a6d3d53",
    "outputId": "2d968831-88bb-4294-c446-0199887e9b86"
   },
   "outputs": [
    {
     "name": "stdout",
     "output_type": "stream",
     "text": [
      "<ConditionalFreqDist with 9 conditions>\n"
     ]
    }
   ],
   "source": [
    "cfd = nltk.ConditionalFreqDist(flatten(bigram_list))\n",
    "print (cfd)"
   ]
  },
  {
   "cell_type": "markdown",
   "id": "i-OfgpcZtwFG",
   "metadata": {
    "id": "i-OfgpcZtwFG"
   },
   "source": [
    "### The FreqDist as the value for the condition <START> in bigrams"
   ]
  },
  {
   "cell_type": "code",
   "execution_count": 28,
   "id": "udswwhZBvmKb",
   "metadata": {
    "colab": {
     "base_uri": "https://localhost:8080/"
    },
    "id": "udswwhZBvmKb",
    "outputId": "ddcf5fd1-de57-4b6d-ea9d-6b0efa65b4bd"
   },
   "outputs": [
    {
     "name": "stdout",
     "output_type": "stream",
     "text": [
      "<FreqDist with 2 samples and 5 outcomes>\n"
     ]
    }
   ],
   "source": [
    "fd_start = cfd['<START>'] # value for the key '<START>' is a\n",
    "print (fd_start)          # FreqDist of words that followed '<START>'"
   ]
  },
  {
   "cell_type": "code",
   "execution_count": 48,
   "id": "L7KyBi2vsiDd",
   "metadata": {
    "colab": {
     "base_uri": "https://localhost:8080/"
    },
    "id": "L7KyBi2vsiDd",
    "outputId": "71ac35cf-ccd5-411d-ca6f-803520a1c102"
   },
   "outputs": [
    {
     "name": "stdout",
     "output_type": "stream",
     "text": [
      "3\n",
      "2\n",
      "0\n",
      "dict_items([('i', 3), ('sam', 2)])\n",
      "The total frequency is 5\n"
     ]
    }
   ],
   "source": [
    "# examine the frequency count of the tokens that followed '<START>'\n",
    "print (fd_start['i'])      # frequency of ('START>', 'i') in bigram_list\n",
    "print (fd_start['sam'])    # frequency of ('START>', 'sam') in bigram_list\n",
    "print (fd_start['people']) # frequency of ('START>', 'people') in bigram_list\n",
    "\n",
    "# show all keys and values\n",
    "print (fd_start.items())\n",
    "print (f\"The total frequency is {sum(fd_start.values())}\")"
   ]
  },
  {
   "cell_type": "code",
   "execution_count": 49,
   "id": "MvcPh9ExuxDT",
   "metadata": {
    "colab": {
     "base_uri": "https://localhost:8080/"
    },
    "id": "MvcPh9ExuxDT",
    "outputId": "4f98906d-4cc7-4031-fb76-9ba17a288714"
   },
   "outputs": [
    {
     "name": "stdout",
     "output_type": "stream",
     "text": [
      "3\n",
      "2\n",
      "0\n",
      "dict_items([('i', 3), ('sam', 2)])\n",
      "The total frequency is 5\n"
     ]
    }
   ],
   "source": [
    "## alternative syntax, starting from cfd\n",
    "print (cfd['<START>']['i'])\n",
    "print (cfd['<START>']['sam'])\n",
    "print (cfd['<START>']['people'])\n",
    "\n",
    "# show all keys and values\n",
    "print (cfd['<START>'].items())\n",
    "print (f\"The total frequency is {sum(cfd['<START>'].values())}\")\n"
   ]
  },
  {
   "cell_type": "markdown",
   "id": "Mxb6DVm9u6fJ",
   "metadata": {
    "id": "Mxb6DVm9u6fJ"
   },
   "source": [
    "#### (!!) Convert frequencies to probabilities -- Ngrams (N > 1)"
   ]
  },
  {
   "cell_type": "code",
   "execution_count": 50,
   "id": "US0duRq2s3G8",
   "metadata": {
    "colab": {
     "base_uri": "https://localhost:8080/"
    },
    "id": "US0duRq2s3G8",
    "outputId": "6ffe9fe4-17af-4583-8fd5-6bdd3af3fae9"
   },
   "outputs": [
    {
     "name": "stdout",
     "output_type": "stream",
     "text": [
      "0.6\n",
      "0.4\n",
      "0.0\n"
     ]
    }
   ],
   "source": [
    "# let's convert frequencies to probabilities\n",
    "print (fd_start.freq('i'))      # or cfd['<START>'].freq('i')\n",
    "print (fd_start.freq('sam'))    # or cfd['<START>'].freq('sam')\n",
    "print (fd_start.freq('people')) # or cfd['<START>'].freq('people')"
   ]
  },
  {
   "cell_type": "code",
   "execution_count": 51,
   "id": "LfXPNtvitUDl",
   "metadata": {
    "colab": {
     "base_uri": "https://localhost:8080/"
    },
    "id": "LfXPNtvitUDl",
    "outputId": "b145b8b9-4537-4557-c344-3cec035cf6da"
   },
   "outputs": [
    {
     "name": "stdout",
     "output_type": "stream",
     "text": [
      "0.6\n",
      "0.4\n",
      "0.0\n"
     ]
    }
   ],
   "source": [
    "# verify the above, by accessing from cfd directly (just a different syntax)\n",
    "print (cfd['<START>'].freq('i'))\n",
    "print (cfd['<START>'].freq('sam'))\n",
    "print (cfd['<START>'].freq('people'))"
   ]
  },
  {
   "cell_type": "markdown",
   "id": "v2W3us7r1thi",
   "metadata": {
    "id": "v2W3us7r1thi"
   },
   "source": [
    "### (3) Trigrams"
   ]
  },
  {
   "cell_type": "code",
   "execution_count": 23,
   "id": "7YiRKlyul5Qg",
   "metadata": {
    "colab": {
     "base_uri": "https://localhost:8080/"
    },
    "id": "7YiRKlyul5Qg",
    "outputId": "042b4c9a-1154-4343-ee80-4879f3c388fa"
   },
   "outputs": [
    {
     "name": "stdout",
     "output_type": "stream",
     "text": [
      "[[('<START>', '<START>', 'i'), ('<START>', 'i', 'like'), ('i', 'like', 'sam')], [('<START>', '<START>', 'sam'), ('<START>', 'sam', 'is'), ('sam', 'is', 'great')], [('<START>', '<START>', 'sam'), ('<START>', 'sam', 'is'), ('sam', 'is', 'funny')], [('<START>', '<START>', 'i'), ('<START>', 'i', 'like'), ('i', 'like', 'funny'), ('like', 'funny', 'people')], [('<START>', '<START>', 'i'), ('<START>', 'i', 'know'), ('i', 'know', 'many'), ('know', 'many', 'funny'), ('many', 'funny', 'people'), ('funny', 'people', 'like'), ('people', 'like', 'sam')]]\n"
     ]
    }
   ],
   "source": [
    "# trigrams\n",
    "trigram_list = [list(ngrams(sentence, 3, pad_left=True, left_pad_symbol='<START>')) for sentence in sentences]\n",
    "print (trigram_list)"
   ]
  },
  {
   "cell_type": "markdown",
   "id": "7b2ZMupeybVm",
   "metadata": {
    "id": "7b2ZMupeybVm"
   },
   "source": [
    "Conditional frequency dictinary"
   ]
  },
  {
   "cell_type": "code",
   "execution_count": 53,
   "id": "X4A4QHB5xyCM",
   "metadata": {
    "colab": {
     "base_uri": "https://localhost:8080/"
    },
    "id": "X4A4QHB5xyCM",
    "outputId": "18b85a0c-9987-409f-97b5-d19fe1c198a7"
   },
   "outputs": [
    {
     "name": "stdout",
     "output_type": "stream",
     "text": [
      "[('<START>', '<START>', 'i'), ('<START>', 'i', 'like'), ('i', 'like', 'sam'), ('<START>', '<START>', 'sam'), ('<START>', 'sam', 'is'), ('sam', 'is', 'great'), ('<START>', '<START>', 'sam'), ('<START>', 'sam', 'is'), ('sam', 'is', 'funny'), ('<START>', '<START>', 'i'), ('<START>', 'i', 'like'), ('i', 'like', 'funny'), ('like', 'funny', 'people'), ('<START>', '<START>', 'i'), ('<START>', 'i', 'know'), ('i', 'know', 'many'), ('know', 'many', 'funny'), ('many', 'funny', 'people'), ('funny', 'people', 'like'), ('people', 'like', 'sam')]\n",
      "[(('<START>', '<START>'), 'i'), (('<START>', 'i'), 'like'), (('i', 'like'), 'sam'), (('<START>', '<START>'), 'sam'), (('<START>', 'sam'), 'is'), (('sam', 'is'), 'great'), (('<START>', '<START>'), 'sam'), (('<START>', 'sam'), 'is'), (('sam', 'is'), 'funny'), (('<START>', '<START>'), 'i'), (('<START>', 'i'), 'like'), (('i', 'like'), 'funny'), (('like', 'funny'), 'people'), (('<START>', '<START>'), 'i'), (('<START>', 'i'), 'know'), (('i', 'know'), 'many'), (('know', 'many'), 'funny'), (('many', 'funny'), 'people'), (('funny', 'people'), 'like'), (('people', 'like'), 'sam')]\n",
      "<ConditionalFreqDist with 11 conditions>\n"
     ]
    }
   ],
   "source": [
    "# first flatten trigram_list, then create a list of 2-tuples (context, prediction)\n",
    "trigrams = flatten(trigram_list)\n",
    "print (trigrams)\n",
    "\n",
    "# tupled trigrams\n",
    "tupled3 = [(tri[:-1], tri[-1]) for tri in trigrams]\n",
    "print (tupled3)\n",
    "\n",
    "# create a cfd from the list of tuples\n",
    "cfd3 = nltk.ConditionalFreqDist(tupled3)\n",
    "print (cfd3)"
   ]
  },
  {
   "cell_type": "code",
   "execution_count": 54,
   "id": "hhkSCOhlzZaE",
   "metadata": {
    "colab": {
     "base_uri": "https://localhost:8080/"
    },
    "id": "hhkSCOhlzZaE",
    "outputId": "2d91318d-596a-406b-d35c-7a8ad8e1ad14"
   },
   "outputs": [
    {
     "name": "stdout",
     "output_type": "stream",
     "text": [
      "dict_items([('like', 2), ('know', 1)])\n",
      "The total frequency is 3\n"
     ]
    }
   ],
   "source": [
    "# show all keys and values\n",
    "print (cfd3[('<START>', 'i')].items())\n",
    "print (f\"The total frequency is {sum(cfd3[('<START>', 'i')].values())}\")\n"
   ]
  },
  {
   "cell_type": "markdown",
   "id": "GHu9y555414k",
   "metadata": {
    "id": "GHu9y555414k"
   },
   "source": [
    "Convert frequencies to probabilities"
   ]
  },
  {
   "cell_type": "code",
   "execution_count": 56,
   "id": "Yaa-cwB_ygqE",
   "metadata": {
    "colab": {
     "base_uri": "https://localhost:8080/"
    },
    "id": "Yaa-cwB_ygqE",
    "outputId": "ba7b2df0-3e3a-4ecb-c9e4-d7d47c27d95a"
   },
   "outputs": [
    {
     "name": "stdout",
     "output_type": "stream",
     "text": [
      "0.6666666666666666\n",
      "0.3333333333333333\n",
      "0.0\n"
     ]
    }
   ],
   "source": [
    "print (cfd3[('<START>', 'i')].freq('like'))\n",
    "print (cfd3[('<START>', 'i')].freq('know'))\n",
    "print (cfd3[('<START>', 'i')].freq('people'))"
   ]
  }
 ],
 "metadata": {
  "colab": {
   "provenance": []
  },
  "kernelspec": {
   "display_name": "Python 3 (ipykernel)",
   "language": "python",
   "name": "python3"
  },
  "language_info": {
   "codemirror_mode": {
    "name": "ipython",
    "version": 3
   },
   "file_extension": ".py",
   "mimetype": "text/x-python",
   "name": "python",
   "nbconvert_exporter": "python",
   "pygments_lexer": "ipython3",
   "version": "3.9.12"
  }
 },
 "nbformat": 4,
 "nbformat_minor": 5
}
